{
 "cells": [
  {
   "cell_type": "code",
   "execution_count": 1,
   "id": "initial_id",
   "metadata": {
    "ExecuteTime": {
     "end_time": "2023-10-18T12:57:36.529187100Z",
     "start_time": "2023-10-18T12:57:36.524916800Z"
    },
    "collapsed": true
   },
   "outputs": [],
   "source": [
    "import numpy as np\n",
    "import os\n",
    "import pandas as pd\n",
    "import matplotlib.pyplot as plt\n",
    "np.random.seed(10)"
   ]
  },
  {
   "cell_type": "code",
   "execution_count": 2,
   "id": "d1da50e53826719f",
   "metadata": {
    "ExecuteTime": {
     "end_time": "2023-10-18T12:57:38.298025100Z",
     "start_time": "2023-10-18T12:57:38.284788200Z"
    },
    "collapsed": false
   },
   "outputs": [],
   "source": [
    "train_x = np.load(\"./train.npz\")['x']\n",
    "train_y = np.load(\"./train.npz\")['y']\n",
    "test_x = np.load(\"./test.npz\")['x']\n",
    "test_y = np.load(\"./test.npz\")['y']\n",
    "data_x = np.concatenate((train_x, test_x), axis=0)\n",
    "data_y = np.concatenate((train_y, test_y), axis=0)\n",
    "random_indices = np.random.permutation(len(data_y))\n",
    "data_x = data_x[random_indices]\n",
    "data_y = data_y[random_indices]"
   ]
  },
  {
   "cell_type": "code",
   "execution_count": 3,
   "id": "2d509f19f67a4f96",
   "metadata": {
    "ExecuteTime": {
     "end_time": "2023-10-18T12:58:16.537284700Z",
     "start_time": "2023-10-18T12:58:16.511748200Z"
    },
    "collapsed": false
   },
   "outputs": [
    {
     "name": "stdout",
     "output_type": "stream",
     "text": [
      "(10000,)\n",
      "(10000,)\n",
      "(10000,)\n",
      "(10000,)\n",
      "(10000,)\n",
      "(10000,)\n",
      "(10000,)\n"
     ]
    }
   ],
   "source": [
    "for i in range(7):\n",
    "    if not os.path.exists(f\"./{i}/\"):\n",
    "        os.makedirs(f\"./{i}\")\n",
    "    x = data_x[i*10000:i*10000+10000]\n",
    "    y = data_y[i*10000:i*10000+10000]\n",
    "    np.savez(f\"./{i}/data.npz\", x=x, y=y)\n",
    "    print(y.shape)"
   ]
  },
  {
   "cell_type": "code",
   "execution_count": 5,
   "id": "4ad5e0b2854885a3",
   "metadata": {
    "ExecuteTime": {
     "end_time": "2023-10-18T12:54:09.741267200Z",
     "start_time": "2023-10-18T12:54:09.646823100Z"
    },
    "collapsed": false
   },
   "outputs": [],
   "source": [
    "for i in range(6):\n",
    "    train = np.load(f\"./{i}/train.npz\")['x']\n",
    "    label = np.load(f\"./{i}/train.npz\")['y']\n",
    "    for j in range(4):\n",
    "        x = train[j*2500:j*2500+2500]\n",
    "        y = label[j*2500:j*2500+2500]\n",
    "        np.savez(f\"./{i}/data_batch_{j}.npz\", x=x, y=y)"
   ]
  },
  {
   "cell_type": "code",
   "execution_count": 3,
   "id": "230cfdc7512f9a1c",
   "metadata": {
    "ExecuteTime": {
     "end_time": "2023-10-18T12:54:12.077575500Z",
     "start_time": "2023-10-18T12:54:12.062859500Z"
    },
    "collapsed": false
   },
   "outputs": [
    {
     "data": {
      "text/plain": [
       "array([3, 5, 0, ..., 4, 0, 3])"
      ]
     },
     "execution_count": 3,
     "metadata": {},
     "output_type": "execute_result"
    }
   ],
   "source": [
    "np.load(\"./0/data_batch_0.npz\")['y']"
   ]
  },
  {
   "cell_type": "code",
   "execution_count": 10,
   "id": "3c1113c3c041268b",
   "metadata": {
    "collapsed": false
   },
   "outputs": [
    {
     "name": "stdout",
     "output_type": "stream",
     "text": [
      "[6 6 9 ... 4 0 5]\n",
      "[3 2 3 ... 2 9 5]\n",
      "[2 1 5 ... 4 8 3]\n",
      "[1 7 0 ... 9 0 4]\n",
      "[3 4 9 ... 9 7 5]\n",
      "[3 2 0 ... 7 8 5]\n"
     ]
    },
    {
     "data": {
      "image/png": "[encoded data removed]",
      "text/plain": [
       "<Figure size 640x480 with 1 Axes>"
      ]
     },
     "metadata": {},
     "output_type": "display_data"
    }
   ],
   "source": [
    "for i in range(6):\n",
    "    x = np.load(f\"./{i}/test.npz\")['x']\n",
    "    y = np.load(f\"./{i}/test.npz\")['y']\n",
    "    plt.imshow(x[0])\n",
    "    print(y)"
   ]
  },
  {
   "cell_type": "code",
   "execution_count": 4,
   "id": "d1aa4d48",
   "metadata": {},
   "outputs": [
    {
     "data": {
      "text/plain": [
       "array([9, 9, 9, ..., 0, 0, 0])"
      ]
     },
     "execution_count": 4,
     "metadata": {},
     "output_type": "execute_result"
    }
   ],
   "source": [
    "y = np.load(f\"./0/data_batch_3.npz\")['y']\n",
    "y"
   ]
  },
  {
   "cell_type": "code",
   "execution_count": null,
   "id": "3e6d5da0",
   "metadata": {},
   "outputs": [],
   "source": [
    "for i in range(20):\n",
    "    train_x = np.load(f\"./\")"
   ]
  },
  {
   "cell_type": "code",
   "execution_count": null,
   "metadata": {},
   "outputs": [],
   "source": []
  }
 ],
 "metadata": {
  "kernelspec": {
   "display_name": "Python 3",
   "language": "python",
   "name": "python3"
  },
  "language_info": {
   "codemirror_mode": {
    "name": "ipython",
    "version": 3
   },
   "file_extension": ".py",
   "mimetype": "text/x-python",
   "name": "python",
   "nbconvert_exporter": "python",
   "pygments_lexer": "ipython3",
   "version": "3.11.4"
  }
 },
 "nbformat": 4,
 "nbformat_minor": 5
}
